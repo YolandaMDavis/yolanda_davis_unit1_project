{
 "cells": [
  {
   "cell_type": "markdown",
   "metadata": {},
   "source": [
    "<img src=\"http://imgur.com/1ZcRyrc.png\" style=\"float: left; margin: 20px; height: 55px\">\n",
    "\n",
    "# Project 1: Python Coding Exercises\n",
    "\n",
    "_Authors:  Joseph Nelson (DC)_\n",
    "\n",
    "---"
   ]
  },
  {
   "cell_type": "markdown",
   "metadata": {},
   "source": [
    "The following code challenges are drawn from common exercises used in technical interviews. This project is more about turning ideas into Python code than it is about developing algorithms, so we have provided \"pseudocode\" for the more challenging problems."
   ]
  },
  {
   "cell_type": "markdown",
   "metadata": {},
   "source": [
    "### Challenge 1: Largest Palindrome\n",
    "A palindromic number reads the same both ways. For example, 1234321 is a palindrome. The largest palindrome made from the product of two two-digit numbers is 9009 = 91 × 99. Find the largest palindrome made from the product of two three-digit numbers.\n",
    "\n",
    "Suggested algorithm:\n",
    "\n",
    "```\n",
    "- Initialize a variable `result` to 0.\n",
    "- For each number A 100 through 999:\n",
    "    - For each number B 100 through 999:\n",
    "        - Multiply A and B.\n",
    "        - Turn that product into a string (use `str` as a function).\n",
    "        - Reverse the string (use `my_string[::-1]`).\n",
    "        - If the string and its reverse are the same and the product is\n",
    "        greater than `result`,  set `result` to that new value.\n",
    "```"
   ]
  },
  {
   "cell_type": "code",
   "execution_count": 25,
   "metadata": {
    "pycharm": {
     "is_executing": false,
     "name": "#%%\n"
    }
   },
   "outputs": [
    {
     "name": "stdout",
     "text": [
      "906609\n"
     ],
     "output_type": "stream"
    }
   ],
   "source": [
    "\n",
    "result = 0\n",
    "\n",
    "# use nested for loop to get all combination of pairs from 100 to 999 (1000 is excluded in range)\n",
    "for a in range(100,1000):\n",
    "    for b in range(100,1000):        \n",
    "        \n",
    "        test_value = str(a * b) # multiple the values and  convert to string\n",
    "        reverse_value = test_value[::-1] # make a copy of the reversed string\n",
    "        \n",
    "        #check if strings are equal and if value is bigger than last result\n",
    "        if (reverse_value == test_value) and (int(reverse_value) > result):\n",
    "            result = int(reverse_value)\n",
    "            \n",
    "print(result)\n"
   ]
  },
  {
   "cell_type": "markdown",
   "metadata": {},
   "source": [
    "### Challenge 2: Summation of Primes\n",
    "The sum of the primes below 10 is 2 + 3 + 5 + 7 = 17. Find the sum of all the primes below 2,000.\n",
    "\n",
    "Suggested algorithm:\n",
    "\n",
    "```\n",
    "- Initialize an empty list of primes.\n",
    "\n",
    "- For every number A from 2 to 2,000:\n",
    "    - Set a variable `is_prime` to true.\n",
    "    - For every number B in our list of primes:\n",
    "        - If A divided by B gives no remainder, set `is_prime` to false.\n",
    "        - Optional: Use the command `break` to end the loop over primes at this point.\n",
    "    - If `is_prime` is still true, append A to our list of primes.\n",
    "    \n",
    "- Add up the primes.\n",
    "```"
   ]
  },
  {
   "cell_type": "code",
   "execution_count": 26,
   "metadata": {
    "pycharm": {
     "is_executing": false
    }
   },
   "outputs": [
    {
     "name": "stdout",
     "text": [
      "17\n"
     ],
     "output_type": "stream"
    }
   ],
   "source": [
    "# A prime is defined by any number n greater than 1 that has no multiples between 2 and the \n",
    "# square root of n. This function performs this check and returns a boolean representing the\n",
    "# result\n",
    "def is_prime(n):\n",
    "    \n",
    "    if n >= 2:\n",
    "        \n",
    "        x = int(n**(1/2)) + 1\n",
    "            \n",
    "        for a in range(2,x):\n",
    "            if n % a == 0:\n",
    "                return False\n",
    "            \n",
    "        return True\n",
    "    \n",
    "    else:\n",
    "        return False\n",
    "\n",
    "result = 0\n",
    "\n",
    "# for each number from 2 to 1999, check if prime and if so \n",
    "# add that number to the existing result variable\n",
    "for a in range(2,2000):\n",
    "    if(is_prime(a)):\n",
    "        result+=a\n",
    "\n",
    "print(result)\n",
    "    \n"
   ]
  },
  {
   "cell_type": "markdown",
   "metadata": {},
   "source": [
    "### Challenge 3: Multiples of 3 and 5\n",
    "If we list all of the natural numbers below 10 that are multiples of 3 or 5, we get 3, 5, 6, and 9. The sum of these multiples is 23. Find the sum of all the multiples of 3 and 5 below 1,000."
   ]
  },
  {
   "cell_type": "code",
   "execution_count": 28,
   "metadata": {
    "pycharm": {
     "is_executing": false
    }
   },
   "outputs": [
    {
     "name": "stdout",
     "text": [
      "233168\n"
     ],
     "output_type": "stream"
    }
   ],
   "source": [
    "\n",
    "result = 0\n",
    "\n",
    "# For each number from 1 to 999 check if that number is a multiple of 3 or 5. \n",
    "# If so add that number to the result\n",
    "for a in range(1,1000):\n",
    "    if (a % 3 == 0) or (a % 5 == 0):\n",
    "        result+=a\n",
    "        \n",
    "print(result)\n"
   ]
  },
  {
   "cell_type": "markdown",
   "metadata": {},
   "source": [
    "### Challenge 4: String Compressor\n",
    "Write a function to perform basic string compression using the counts of repeated characters. (This is called run-length encoding.) For example, the string \"aabcccccaaa\" would become a2b1c5a3. If the “compressed” string would not become smaller than the original string, your method should return the original string. You can assume the string has only uppercase and lowercase letters (a–z). Specify whether your solution is case sensitive or case insensitive and what you would need to change to make it the other.\n",
    "\n",
    "Suggested algorithm:\n",
    "\n",
    "```\n",
    "- Initialize an empty string to hold the compressed version of the input string\n",
    "- Initialize an empty string to hold the character we are currently tallying up\n",
    "- Initialize a counter variable to 0\n",
    "\n",
    "- For each letter in the input string:\n",
    "    - If that letter matches the letter we are counting, increment the counter by 1\n",
    "    - Otherwise:\n",
    "        - If the counter value is greater than 0, add the letter we have been counting\n",
    "        and its count to our compressed string\n",
    "        - Update the letter we are counting\n",
    "        - Set the counter to 1\n",
    "\n",
    "- Append the last letter we were counting and its count to our compressed string\n",
    "```\n",
    "\n",
    "**Suggestion:** Test your function on a few sample inputs. Try to come up with \"edge cases\" that might make it fail (e.g. empty strings, strings with all the same character, strings containing non-alphabetic characters, etc.)"
   ]
  },
  {
   "cell_type": "code",
   "execution_count": 29,
   "metadata": {
    "pycharm": {
     "is_executing": false,
     "name": "#%%\n"
    }
   },
   "outputs": [],
   "source": [
    "\n",
    "# This function will compress a string if result is smaller than original value.  It is case-sensitive\n",
    "# It can be made case insensitive by making provided value all lower or all uppercase letters\n",
    "def compress_string(str_val):\n",
    "    index_char = None # used to track current character\n",
    "    str_compressed = ''  # will contain compressed string\n",
    "    count = 0  #used to count individual characters in string\n",
    "    \n",
    "    # This loop will count each duplicate character encountered by using the index_char and count variables\n",
    "    # first pass will set first character to index_char and set count = 1 for that character\n",
    "    # subsequent characters will check if equal to index_char and if so will increment the count var\n",
    "    # if not equal it will concatenate the index_char and count to the str_compressed variable\n",
    "    for char in str_val:\n",
    "        if index_char is None: \n",
    "            index_char = char\n",
    "            count = 1\n",
    "        elif index_char == char:\n",
    "            count += 1\n",
    "        else:\n",
    "            str_compressed+= index_char + str(count)\n",
    "            count = 1\n",
    "            index_char = char\n",
    "    \n",
    "    # ensure to get the last set of repeated characters once loop finishes \n",
    "    if not (index_char is None):\n",
    "        str_compressed+= index_char + str(count)\n",
    "    \n",
    "    # return shortest value between original and compressed string\n",
    "    if len(str_compressed) >= len(str_val):\n",
    "        return str_val\n",
    "    else:\n",
    "        return str_compressed\n",
    "\n",
    "#Tested Scenarios\n",
    "#print(compress_string(\"abc\"))\n",
    "#print(compress_string(\"aabcccccaaa\"))\n",
    "#print(compress_string(\"aaaaaaaBBBBBBBB\"))\n",
    "#print(compress_string('B   ____bbbbZZ%%%%'))\n",
    "#print(compress_string(\"   \"))\n",
    "#print(compress_string(\"\"))\n"
   ]
  },
  {
   "cell_type": "markdown",
   "metadata": {},
   "source": [
    "### Challenge 5: FizzBuzz\n",
    "Write a program that prints all of the numbers from 1 to 100. For multiples of 3, instead of the number, print \"Fizz;\" for multiples of 5, print \"Buzz.\" For numbers that are multiples of both 3 and 5, print \"FizzBuzz.\""
   ]
  },
  {
   "cell_type": "code",
   "execution_count": 23,
   "metadata": {
    "pycharm": {
     "is_executing": false
    }
   },
   "outputs": [
    {
     "name": "stdout",
     "text": [
      "1\n2\nFizz\n4\nBuzz\nFizz\n7\n8\nFizz\nBuzz\n11\nFizz\n13\n14\nFizzBuzz\n16\n17\nFizz\n19\nBuzz\nFizz\n22\n23\nFizz\nBuzz\n26\nFizz\n28\n29\nFizzBuzz\n31\n32\nFizz\n34\nBuzz\nFizz\n37\n38\nFizz\nBuzz\n41\nFizz\n43\n44\nFizzBuzz\n46\n47\nFizz\n49\nBuzz\nFizz\n52\n53\nFizz\nBuzz\n56\nFizz\n58\n59\nFizzBuzz\n61\n62\nFizz\n64\nBuzz\nFizz\n67\n68\nFizz\nBuzz\n71\nFizz\n73\n74\nFizzBuzz\n76\n77\nFizz\n79\nBuzz\nFizz\n82\n83\nFizz\nBuzz\n86\nFizz\n88\n89\nFizzBuzz\n91\n92\nFizz\n94\nBuzz\nFizz\n97\n98\nFizz\nBuzz\n"
     ],
     "output_type": "stream"
    }
   ],
   "source": [
    "\n",
    "for num in range(1,101):\n",
    "    # If number not divisible by 3 or 5 print it\n",
    "    if not (num % 3 == 0 or num % 5 == 0):\n",
    "        print(num)\n",
    "    else:\n",
    "        # If number is divisible by both 3 and 5 print \"FizzBuzz\"\n",
    "        if num % 3 == 0 and num % 5 == 0:\n",
    "            print(\"FizzBuzz\")\n",
    "        # If number is only divisible by 3 print \"Fizz\"    \n",
    "        elif num % 3 == 0:\n",
    "            print(\"Fizz\")\n",
    "        # Number must be divisible by 5 so print \"Buzz\"     \n",
    "        else:\n",
    "            print(\"Buzz\")\n",
    "            \n",
    "    "
   ]
  },
  {
   "cell_type": "code",
   "execution_count": null,
   "outputs": [],
   "source": [
    "\n"
   ],
   "metadata": {
    "collapsed": false,
    "pycharm": {
     "name": "#%%\n"
    }
   }
  }
 ],
 "metadata": {
  "anaconda-cloud": {},
  "kernelspec": {
   "display_name": "Python 3",
   "language": "python",
   "name": "python3"
  },
  "language_info": {
   "codemirror_mode": {
    "name": "ipython",
    "version": 3
   },
   "file_extension": ".py",
   "mimetype": "text/x-python",
   "name": "python",
   "nbconvert_exporter": "python",
   "pygments_lexer": "ipython3",
   "version": "3.6.8"
  },
  "pycharm": {
   "stem_cell": {
    "cell_type": "raw",
    "source": [],
    "metadata": {
     "collapsed": false
    }
   }
  }
 },
 "nbformat": 4,
 "nbformat_minor": 2
}